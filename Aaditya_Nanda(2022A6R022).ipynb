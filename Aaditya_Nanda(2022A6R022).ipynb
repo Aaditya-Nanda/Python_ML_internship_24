{
 "cells": [
  {
   "cell_type": "code",
   "execution_count": 11,
   "id": "0a33efaf-60b2-4a5b-bc76-e61396a76d87",
   "metadata": {
    "scrolled": true
   },
   "outputs": [
    {
     "name": "stdout",
     "output_type": "stream",
     "text": [
      "        \n",
      "      * \n",
      "    * * \n",
      "  * * * \n",
      "* * * * \n"
     ]
    }
   ],
   "source": [
    "def pattern(n):\n",
    "    for i in range(n):\n",
    "        for S in range(n-1,i,-1):\n",
    "         print(' ',end=' ')\n",
    "        for j in range(i):\n",
    "            print('*', end=' ')\n",
    "        print()\n",
    "n = 5\n",
    "pattern(n)\n"
   ]
  },
  {
   "cell_type": "code",
   "execution_count": 2,
   "id": "e1a373aa-0e07-4bca-878b-e9fb03a671e1",
   "metadata": {},
   "outputs": [
    {
     "name": "stdin",
     "output_type": "stream",
     "text": [
      "Enter the number: 3ww\n"
     ]
    },
    {
     "name": "stdout",
     "output_type": "stream",
     "text": [
      "Numerical values .Enter again\n"
     ]
    },
    {
     "name": "stdin",
     "output_type": "stream",
     "text": [
      "Enter the number: 3ee\n"
     ]
    },
    {
     "name": "stdout",
     "output_type": "stream",
     "text": [
      "Numerical values .Enter again\n"
     ]
    },
    {
     "name": "stdin",
     "output_type": "stream",
     "text": [
      "Enter the number: 33\n",
      "Enter the number: 0\n"
     ]
    },
    {
     "name": "stdout",
     "output_type": "stream",
     "text": [
      "Second number cannot be zero. Enter again\n"
     ]
    },
    {
     "name": "stdin",
     "output_type": "stream",
     "text": [
      "Enter the number: 34\n",
      "Enter the number: 55\n"
     ]
    },
    {
     "name": "stdout",
     "output_type": "stream",
     "text": [
      "0.6181818181818182\n"
     ]
    }
   ],
   "source": [
    "while True:\n",
    "  try:\n",
    "    a= int(input(\"Enter the number:\"))\n",
    "    b= int(input(\"Enter the number:\"))\n",
    "    print(a/b)\n",
    "    break\n",
    "  except ZeroDivisionError:\n",
    "        print(\"Second number cannot be zero. Enter again\")\n",
    "  except ValueError:\n",
    "        print(\"Numerical values .Enter again\")"
   ]
  }
 ],
 "metadata": {
  "kernelspec": {
   "display_name": "Python 3 (ipykernel)",
   "language": "python",
   "name": "python3"
  },
  "language_info": {
   "codemirror_mode": {
    "name": "ipython",
    "version": 3
   },
   "file_extension": ".py",
   "mimetype": "text/x-python",
   "name": "python",
   "nbconvert_exporter": "python",
   "pygments_lexer": "ipython3",
   "version": "3.12.4"
  }
 },
 "nbformat": 4,
 "nbformat_minor": 5
}
