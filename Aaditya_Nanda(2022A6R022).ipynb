{
 "cells": [
  {
   "cell_type": "code",
   "execution_count": 37,
   "id": "0a33efaf-60b2-4a5b-bc76-e61396a76d87",
   "metadata": {
    "scrolled": true
   },
   "outputs": [
    {
     "name": "stdout",
     "output_type": "stream",
     "text": [
      "        * \n",
      "      * * \n",
      "    * * * \n",
      "  * * * * \n",
      "* * * * * \n"
     ]
    }
   ],
   "source": [
    "def pattern(n):\n",
    "    for i in range(1,n+1):\n",
    "        print(' ' * (n-i)*2,end='')\n",
    "        for j in range(i):\n",
    "            print('* ', end='')\n",
    "        print()\n",
    "row = 5\n",
    "pattern(row)\n"
   ]
  },
  {
   "cell_type": "code",
   "execution_count": null,
   "id": "4855b09f-5dab-4115-a978-52ff859075ea",
   "metadata": {},
   "outputs": [
    {
     "name": "stdin",
     "output_type": "stream",
     "text": [
      "Enter the number: 2w\n"
     ]
    }
   ],
   "source": [
    "#QUESTION 2\n",
    "def div_user(a,b):\n",
    "    try:\n",
    "        print(a/b)\n",
    "    except ZeroDivisionError:\n",
    "        print(\"Second number cannot be zero. Enter again\")\n",
    "        for i in range(0,100000000):\n",
    "            C=int(input(\"enter the second number again\"))\n",
    "            if C>0:\n",
    "                  print(a/C)\n",
    "                  break\n",
    "    \n",
    "if __name__==\"__main__\":  \n",
    "     a= str(input(\"Enter the number:\"))\n",
    "     b= str(input(\"Enter the number:\"))\n",
    "        \n",
    "        \n",
    "get_number(a,b)\n",
    "\n",
    "def get_number(a,b):\n",
    "    while True:\n",
    "        try:\n",
    "            return float(input(a,b))\n",
    "        except ValueError:\n",
    "            print(\"Invalid input. Please enter a valid number.\")\n"
   ]
  },
  {
   "cell_type": "code",
   "execution_count": null,
   "id": "183561a6-c8bd-4d49-a2b0-b50d261e91cc",
   "metadata": {},
   "outputs": [],
   "source": []
  }
 ],
 "metadata": {
  "kernelspec": {
   "display_name": "Python 3 (ipykernel)",
   "language": "python",
   "name": "python3"
  },
  "language_info": {
   "codemirror_mode": {
    "name": "ipython",
    "version": 3
   },
   "file_extension": ".py",
   "mimetype": "text/x-python",
   "name": "python",
   "nbconvert_exporter": "python",
   "pygments_lexer": "ipython3",
   "version": "3.12.4"
  }
 },
 "nbformat": 4,
 "nbformat_minor": 5
}
